{
 "cells": [
  {
   "cell_type": "markdown",
   "metadata": {},
   "source": [
    "# <font color=#483C32><center>XML PROJECT : SEARCH OR MODIFY XML FILES WITH PYTHON</center></font></center>"
   ]
  },
  {
   "cell_type": "markdown",
   "metadata": {},
   "source": [
    "### <font color=#8E7618> Importing the necessary models and components : </font>"
   ]
  },
  {
   "cell_type": "code",
   "execution_count": 2,
   "metadata": {},
   "outputs": [],
   "source": [
    "import xml.etree.ElementTree as ET #for parsing and creating XML data.\n",
    "#we can also use the dom.minidom module.\n",
    "import xml.dom.minidom\n",
    "\n",
    "import tkinter as tk #tkinter is a standard Python interface to the Tk GUI.\n",
    "from tkinter import *\n",
    "from tkinter import ttk #ttk module provides access to the Tk themed widget set.\n",
    "\n",
    "from tkinter.ttk import Frame, Label,Entry,Button #importing necessary widgets.\n",
    "from tkinter import Tk, StringVar, BOTH, W, E #importing necessary components for the display."
   ]
  },
  {
   "cell_type": "markdown",
   "metadata": {},
   "source": [
    "### <font color=#8E7618> Execute this code if you want to add elements to the XML file: </font>"
   ]
  },
  {
   "cell_type": "code",
   "execution_count": 3,
   "metadata": {},
   "outputs": [],
   "source": [
    "#FUNCTION TO ADD ELEMENTS TO AN XML FILE\n",
    "def add_elements_to_file ():\n",
    "                def addition():\n",
    "                    #We can import this data by reading from a file.\n",
    "                    mytree = ET.parse('publications.xml')\n",
    "                    root = mytree.getroot() \n",
    "                    #create new sub-elements for a given element.\n",
    "                    pub = ET.SubElement(root,\"pub\")\n",
    "                    a=ET.SubElement(root,\"author\")\n",
    "                    a.text=entry_2.get()\n",
    "                    b=ET.SubElement(root,\"pub_name\")\n",
    "                    b.text=entry_3.get()\n",
    "                    c=ET.SubElement(root,\"pub_type\")\n",
    "                    c.text=entry_4.get()\n",
    "                    d=ET.SubElement(root,\"year\")\n",
    "                    d.text=entry_5.get()\n",
    "                    mytree.write(\"publications.xml\")\n",
    "                    \n",
    "                #widget is to display text\n",
    "                label_2 = ttk.Label(root, text=\"Enter name of author:\")\n",
    "                \n",
    "                #implement a display box where you can place text \n",
    "                label_2.place(relx=0.01,rely=0.62)\n",
    "                global entry_2\n",
    "                \n",
    "                #used to get input\n",
    "                entry_2=Entry(root)\n",
    "                entry_2.get() #returns the data of the entry widget which further can be printed on the console\n",
    "                entry_2.place(relx=0.4,rely=0.62)  #implement a display box where you can place text  \n",
    "                label_3 = ttk.Label(root, text='Enter name of publication:', width=20, font=(\"bold\", 10))\n",
    "                label_3.place(relx=0.01,rely=0.72)\n",
    "                global entry_3\n",
    "                entry_3=Entry(root)\n",
    "                entry_3.get()\n",
    "                entry_3.place(relx=0.4,rely=0.72)\n",
    "                label_4 = ttk.Label(root, text='Enter type of publication:', width=20, font=(\"bold\", 10))\n",
    "                label_4.place(relx=0.01,rely=0.82)\n",
    "                global entry_4\n",
    "                entry_4=Entry(root)\n",
    "                entry_4.get()\n",
    "                entry_4.place(relx=0.4,rely=0.82)       \n",
    "                label_5 = ttk.Label(root, text='Enter year of publication:', width=20, font=(\"bold\", 10))\n",
    "                label_5.place(relx=0.01,rely=0.92)\n",
    "                global entry_5\n",
    "                entry_5=Entry(root)\n",
    "                entry_5.get()\n",
    "                entry_5.place(relx=0.4,rely=0.92)\n",
    "                bo= Button(root, text=\"Add\" ,command= lambda:addition()) #button \"Add\" that will call the function \"addition\"\n",
    "                bo.place(x=410, y=400) #implement a display box where you can place the button\n",
    "                \n",
    "                \n",
    "                \n",
    "#RADIO BUTTONS TO CHOOSE BETWEEN SEARCH TYPE\n",
    "root= Tk() #creates the root window\n",
    "root.geometry(\"500x500\") #edit dimensions of the window\n",
    "root.config(background='#DCDCDC') #background color\n",
    "root.title(\"Add publications\") #title\n",
    "label1=tk.Label(root,text=\"Search or Modify publications?:\",fg=\"#008080\") #widget is to display text\n",
    "label1.place(relx = 0, rely = 0)\n",
    "var =StringVar() #Holds a string; the default value is an empty string\n",
    "button1=tk.Radiobutton(root,text=\"Search for publications\",variable=var,value=\"Search for publications\")\n",
    "button1.place(relx = 0.07, rely = 0.07)\n",
    "var1 =StringVar()\n",
    "button2=tk.Radiobutton(root,text=\"Add publication\",variable=var1,value=\"Add publication\")\n",
    "button2.place(relx = 0.07, rely = 0.2)\n",
    "#BUTTON TO PROCEED TO PLOT COMMAND\n",
    "b5=tk.Button(root,text=\"Proceed\",command=lambda:add_elements_to_file ())\n",
    "b5.place(relx = 0.2, rely = 0.4)\n",
    "root.mainloop()"
   ]
  },
  {
   "cell_type": "markdown",
   "metadata": {},
   "source": [
    "### <font color=#8E7618> Execute this code if you want to search for elements in the XML file : </font>"
   ]
  },
  {
   "cell_type": "code",
   "execution_count": 69,
   "metadata": {},
   "outputs": [],
   "source": [
    "from distutils.filelist import findall #finds *all* the matches and returns them as a list of strings, with each string representing one match.\n",
    "from struct import pack #This geometry manager organizes widgets in blocks.\n",
    "from tkinter import *\n",
    "import xml.etree.ElementTree as e #for parsing and creating XML data.\n",
    "from tkinter import messagebox #used to display a message.\n",
    "\n",
    "mytree=e.parse('publications.xml') #We can import this data by reading from a file.\n",
    "myroot=mytree.getroot() #This function returns root element of the tree.\n",
    "def recherche():\n",
    "     nom_info=nom.get() #returns the data of the entry widget which further can be printed on the console\n",
    "     l=[] #empty list\n",
    "     for x in myroot.findall(\"pub\"): #for x in the list of elements that matches \"pub\" in the xml file:\n",
    "         item=x.find('author').text #item = name of the author in the xml file\n",
    "         l.append(item) #adds item to the empty list l\n",
    "         if item==nom_info: #if item matches the name of the author given by the user :\n",
    "             Label(text=\"informations on the publication:\",font=30,bd=1,relief=SOLID).place(x=25,y=120) #displays the specified text.\n",
    "             Label(text=\"author\",).place(x=25,y=150) #edit dimensions.\n",
    "             Label(text=nom_info).place(x=60,y=150) #display the name of the author\n",
    "             Label(text=\"publications name:\").place(x=25,y=170)\n",
    "             Label(text=x.find('pub_name').text).place(x=75,y=170) #display publication name\n",
    "             Label(text=\"Publication type:\").place(x=25,y=190)\n",
    "             Label(text=x.find('pub_type').text).place(x=50,y=190) #display publication type\n",
    "             Label(text=\"Venue:\").place(x=25,y=210)\n",
    "             Label(text=x.find('venue').text).place(x=90,y=210) #display venue\n",
    "             Label(text=\"Year:\").place(x=25,y=230)\n",
    "             Label(text=x.find('year').text).place(x=65,y=230) #display year\n",
    "                \n",
    "     if nom_info not in l: #if name given by the user does not match the elements in the list:\n",
    "             messagebox.showinfo(\"auteur inexsistant\") #show the specified message\n",
    "     nom_entry.delete(0,END) #delete the entry\n",
    "    \n",
    "screen=Tk() #creates the root window\n",
    "screen.geometry(\"500x500\") #edit dimensions of the window\n",
    "screen.config(background='#DCDCDC') #background color\n",
    "screen.title(\"Search in publications\") #title\n",
    "head=Label(screen,text=\"Search in publications:\",bd=1,font=('Arial',15),bg=\"#DCDCDC\",fg=\"black\",width=0,height=0)\n",
    "#display a head title\n",
    "head.pack()\n",
    "nom_text=Label(text=\"Enter name of author\")  #display a specified text\n",
    "nom_text.place(x=25,y=40)\n",
    "\n",
    "nom=StringVar() #holds a string \n",
    "nom_entry=Entry(textvariable=nom) #used to get input\n",
    "nom_entry.place(x=25,y=60) #edit dimensions \n",
    "\n",
    "valide=Button(text=\"Search\",width=\"20\",height=\"1\",command=recherche) #button search which calls the function recherche\n",
    "valide.place(x=25,y=85)\n",
    "head.mainloop()  #to keep display of the window on loop."
   ]
  },
  {
   "cell_type": "code",
   "execution_count": null,
   "metadata": {},
   "outputs": [],
   "source": []
  }
 ],
 "metadata": {
  "kernelspec": {
   "display_name": "Python 3",
   "language": "python",
   "name": "python3"
  },
  "language_info": {
   "codemirror_mode": {
    "name": "ipython",
    "version": 3
   },
   "file_extension": ".py",
   "mimetype": "text/x-python",
   "name": "python",
   "nbconvert_exporter": "python",
   "pygments_lexer": "ipython3",
   "version": "3.8.3"
  }
 },
 "nbformat": 4,
 "nbformat_minor": 4
}
